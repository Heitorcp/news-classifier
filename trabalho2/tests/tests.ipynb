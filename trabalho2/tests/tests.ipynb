{
 "cells": [
  {
   "cell_type": "code",
   "execution_count": 3,
   "metadata": {},
   "outputs": [],
   "source": [
    "import joblib"
   ]
  },
  {
   "cell_type": "markdown",
   "metadata": {},
   "source": [
    "### Novos Dados "
   ]
  },
  {
   "cell_type": "markdown",
   "metadata": {},
   "source": [
    "Vamos pegar uma notícia recente do jornal HuffPost para testar o nosso modelo. "
   ]
  },
  {
   "cell_type": "code",
   "execution_count": 4,
   "metadata": {},
   "outputs": [],
   "source": [
    "new_data = [\n",
    "    \"\"\"Angelina Jolie Debuts Mysterious New Tattoo In The Middle Of Her Chest At Tony Awards\n",
    "The actress won her first ever Tony for producing \"The Outsiders: A New Musical.\"\n",
    "Angelina Jolie turned heads with some fresh ink at the 77th annual Tony Awards over the weekend.\n",
    "On Sunday, the “Salt” actress, 49, hit the red carpet at the New York City event with her and Brad Pitt’s 15-year-old daughter, Vivienne, donning a small, dainty tattoo of what appeared to be a swallow bird in the center of her chest.\n",
    "The Oscar winner’s unexpected art was the perfect touch to her simple yet elegant strapless teal Versace gown and matching shawl. Jolie and her kiddo shared an adorable matching moment at the awards ceremony with Vivienne sporting a suit in the same shade.\n",
    "It’s unclear exactly when Jolie may have gotten the tattoo as she was photographed seemingly without the ink at the opening night of her play, “The Outsiders: A New Musical,” in New York City on April 11.\n",
    "Jolie produced the show alongside Vivienne, who worked as producer assistant.\n",
    "The actress won her first ever Tony at the ceremony for producing “The Outsiders.” The play also scored 12 Tony nominations.\n",
    "Jolie’s ink joins the many tattoos she’s gotten over the years, including multiple finger tats, and most recently, matching “Stay Gold” tattoos with the “Outsiders” creative team.\n",
    "The mom-daughter duo’s appearance at the awards show comes weeks after the teen made headlines for being credited as “Vivienne Jolie” instead of the hyphenated surname Jolie-Pitt she once shared with her five siblings — Maddox, Pax, Zahara, Shiloh and Knox — for her work on the musical.\n",
    "It is unclear if Vivienne has legally changed her name. Last month, Shiloh Jolie-Pitt filed a petition to a Los Angeles court to drop Pitt from her name on her 18th birthday.\n",
    "\"\"\"\n",
    "]"
   ]
  },
  {
   "cell_type": "code",
   "execution_count": 5,
   "metadata": {},
   "outputs": [],
   "source": [
    "#carregando o modelo \n",
    "logistic_regression_clf = joblib.load(\"../models/logistic_regression_model.pkl\")"
   ]
  },
  {
   "cell_type": "code",
   "execution_count": 6,
   "metadata": {},
   "outputs": [],
   "source": [
    "predictions = logistic_regression_clf.predict(new_data)"
   ]
  },
  {
   "cell_type": "code",
   "execution_count": 7,
   "metadata": {},
   "outputs": [
    {
     "data": {
      "text/plain": [
       "array(['ENTERTAINMENT'], dtype=object)"
      ]
     },
     "execution_count": 7,
     "metadata": {},
     "output_type": "execute_result"
    }
   ],
   "source": [
    "predictions"
   ]
  }
 ],
 "metadata": {
  "kernelspec": {
   "display_name": ".venv",
   "language": "python",
   "name": "python3"
  },
  "language_info": {
   "codemirror_mode": {
    "name": "ipython",
    "version": 3
   },
   "file_extension": ".py",
   "mimetype": "text/x-python",
   "name": "python",
   "nbconvert_exporter": "python",
   "pygments_lexer": "ipython3",
   "version": "3.10.11"
  }
 },
 "nbformat": 4,
 "nbformat_minor": 2
}
